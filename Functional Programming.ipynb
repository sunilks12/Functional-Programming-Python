{
 "cells": [
  {
   "cell_type": "code",
   "execution_count": 1,
   "id": "1e1fa655",
   "metadata": {},
   "outputs": [],
   "source": [
    "import numpy as np\n",
    "import pandas as pd"
   ]
  },
  {
   "cell_type": "markdown",
   "id": "321fc61a",
   "metadata": {},
   "source": [
    "### PROBLEM 1"
   ]
  },
  {
   "cell_type": "code",
   "execution_count": 2,
   "id": "b971fff1",
   "metadata": {},
   "outputs": [
    {
     "name": "stdout",
     "output_type": "stream",
     "text": [
      "23\n"
     ]
    }
   ],
   "source": [
    "s= 0\n",
    "for n in range(1, 10):\n",
    "    if n % 3 == 0 or n % 5 == 0:\n",
    "        s += n\n",
    "print(s)\n"
   ]
  },
  {
   "cell_type": "code",
   "execution_count": 3,
   "id": "270b8227",
   "metadata": {},
   "outputs": [
    {
     "name": "stdout",
     "output_type": "stream",
     "text": [
      "23\n"
     ]
    }
   ],
   "source": [
    "s=[]\n",
    "for n in range(1,10):\n",
    "    if n%3==0 or n%5==0:\n",
    "        s.append(n)\n",
    "print(sum(s))"
   ]
  },
  {
   "cell_type": "code",
   "execution_count": 4,
   "id": "60afbf4a",
   "metadata": {},
   "outputs": [],
   "source": [
    "class summablelist(list):\n",
    "    def sum(self):\n",
    "        s=0\n",
    "        for v in self.__iter__():\n",
    "            s=s+v\n",
    "        return s"
   ]
  },
  {
   "cell_type": "code",
   "execution_count": 69,
   "id": "5e96f3d4",
   "metadata": {},
   "outputs": [],
   "source": [
    "def until(n, filter_func, v):\n",
    "           if v == n: \n",
    "            return []\n",
    "           if filter_func(v):\n",
    "                return [v] + until( n, filter_func, v+1 )\n",
    "           else: \n",
    "            return until(n, filter_func, v+1)"
   ]
  },
  {
   "cell_type": "code",
   "execution_count": 71,
   "id": "86a0b605",
   "metadata": {},
   "outputs": [
    {
     "data": {
      "text/plain": [
       "[5,\n",
       " 6,\n",
       " 9,\n",
       " 10,\n",
       " 12,\n",
       " 15,\n",
       " 18,\n",
       " 20,\n",
       " 21,\n",
       " 24,\n",
       " 25,\n",
       " 27,\n",
       " 30,\n",
       " 33,\n",
       " 35,\n",
       " 36,\n",
       " 39,\n",
       " 40,\n",
       " 42,\n",
       " 45,\n",
       " 48,\n",
       " 50,\n",
       " 51,\n",
       " 54,\n",
       " 55,\n",
       " 57,\n",
       " 60,\n",
       " 63,\n",
       " 65,\n",
       " 66,\n",
       " 69,\n",
       " 70,\n",
       " 72,\n",
       " 75,\n",
       " 78,\n",
       " 80,\n",
       " 81,\n",
       " 84,\n",
       " 85,\n",
       " 87,\n",
       " 90,\n",
       " 93,\n",
       " 95,\n",
       " 96,\n",
       " 99]"
      ]
     },
     "execution_count": 71,
     "metadata": {},
     "output_type": "execute_result"
    }
   ],
   "source": [
    " until(100, lambda x: x%3==0 or x%5==0, 5)"
   ]
  },
  {
   "cell_type": "code",
   "execution_count": 44,
   "id": "ca67eb01",
   "metadata": {},
   "outputs": [
    {
     "data": {
      "text/plain": [
       "23"
      ]
     },
     "execution_count": 44,
     "metadata": {},
     "output_type": "execute_result"
    }
   ],
   "source": [
    "sum(until(10, lambda x: x%3==0 or x%5==0,0))"
   ]
  },
  {
   "cell_type": "markdown",
   "id": "e9531794",
   "metadata": {},
   "source": [
    "# problem 2"
   ]
  },
  {
   "cell_type": "code",
   "execution_count": 54,
   "id": "37f8360a",
   "metadata": {},
   "outputs": [],
   "source": [
    "def numbers():\n",
    "    for i in range(1024):\n",
    "        print( \"=\", i )\n",
    "        yield i"
   ]
  },
  {
   "cell_type": "code",
   "execution_count": 55,
   "id": "afef634e",
   "metadata": {},
   "outputs": [],
   "source": [
    "def sum_to(n):\n",
    "    sum=0\n",
    "    for i in numbers():\n",
    "        if i==n:\n",
    "            break\n",
    "        sum=sum+i\n",
    "    return sum\n",
    "        "
   ]
  },
  {
   "cell_type": "code",
   "execution_count": 58,
   "id": "81e009b7",
   "metadata": {},
   "outputs": [
    {
     "name": "stdout",
     "output_type": "stream",
     "text": [
      "= 0\n",
      "= 1\n",
      "= 2\n",
      "= 3\n",
      "= 4\n",
      "= 5\n",
      "= 6\n"
     ]
    },
    {
     "data": {
      "text/plain": [
       "15"
      ]
     },
     "execution_count": 58,
     "metadata": {},
     "output_type": "execute_result"
    }
   ],
   "source": [
    "sum_to(6)\n"
   ]
  },
  {
   "cell_type": "markdown",
   "id": "e9e1c2f8",
   "metadata": {},
   "source": [
    "The sum_to() function will not evaluate the entire result of the numbers() function. It will break after only consuming a few values from the numbers() function. We can see this consumption of values in the following log:"
   ]
  },
  {
   "cell_type": "markdown",
   "id": "180cf8f4",
   "metadata": {},
   "source": [
    "# problem 3\n"
   ]
  },
  {
   "cell_type": "code",
   "execution_count": 68,
   "id": "ab91f036",
   "metadata": {},
   "outputs": [],
   "source": [
    "import math \n",
    "def isprime(p):\n",
    "    if p < 2: \n",
    "        return False\n",
    "    if p == 2: \n",
    "        return True\n",
    "    if p % 2 == 0: \n",
    "        return False\n",
    "    return not any(p==0 for p in range(3,int(math.sqrt(n))+1,2))"
   ]
  },
  {
   "cell_type": "code",
   "execution_count": 67,
   "id": "76670974",
   "metadata": {},
   "outputs": [
    {
     "data": {
      "text/plain": [
       "True"
      ]
     },
     "execution_count": 67,
     "metadata": {},
     "output_type": "execute_result"
    }
   ],
   "source": [
    "isprime(9)"
   ]
  },
  {
   "cell_type": "code",
   "execution_count": 72,
   "id": "123b5927",
   "metadata": {},
   "outputs": [],
   "source": [
    "# problem 4"
   ]
  },
  {
   "cell_type": "code",
   "execution_count": 75,
   "id": "f5ef6c1e",
   "metadata": {},
   "outputs": [],
   "source": [
    "from decimal import *\n",
    "def clean_decimal(text):\n",
    "    if text is None:\n",
    "        return text\n",
    "    try:\n",
    "        return Decimal(text.replace(\"$\",\"\").replace(\",\", \"\"))\n",
    "    except InvalidOperation:\n",
    "        return text"
   ]
  },
  {
   "cell_type": "code",
   "execution_count": 76,
   "id": "6df25f96",
   "metadata": {},
   "outputs": [],
   "source": [
    "# more efficient\n",
    "def replace(data, a, b):\n",
    "    return data.replace(a,b)\n",
    "    "
   ]
  },
  {
   "cell_type": "code",
   "execution_count": 78,
   "id": "d65c8baa",
   "metadata": {},
   "outputs": [
    {
     "ename": "NameError",
     "evalue": "name 'text' is not defined",
     "output_type": "error",
     "traceback": [
      "\u001b[0;31m---------------------------------------------------------------------------\u001b[0m",
      "\u001b[0;31mNameError\u001b[0m                                 Traceback (most recent call last)",
      "Input \u001b[0;32mIn [78]\u001b[0m, in \u001b[0;36m<cell line: 1>\u001b[0;34m()\u001b[0m\n\u001b[0;32m----> 1\u001b[0m Decimal(replace(replace(\u001b[43mtext\u001b[49m, \u001b[38;5;124m\"\u001b[39m\u001b[38;5;124m$\u001b[39m\u001b[38;5;124m\"\u001b[39m, \u001b[38;5;124m\"\u001b[39m\u001b[38;5;124m\"\u001b[39m), \u001b[38;5;124m\"\u001b[39m\u001b[38;5;124m,\u001b[39m\u001b[38;5;124m\"\u001b[39m, \u001b[38;5;124m\"\u001b[39m\u001b[38;5;124m\"\u001b[39m))\n\u001b[1;32m      2\u001b[0m replace\u001b[38;5;241m=\u001b[39m\u001b[38;5;28mstr\u001b[39m\u001b[38;5;241m.\u001b[39mreplace\n\u001b[1;32m      3\u001b[0m replace(\u001b[38;5;124m\"\u001b[39m\u001b[38;5;124m$12.45\u001b[39m\u001b[38;5;124m\"\u001b[39m,\u001b[38;5;124m\"\u001b[39m\u001b[38;5;124m$\u001b[39m\u001b[38;5;124m\"\u001b[39m,\u001b[38;5;124m\"\u001b[39m\u001b[38;5;124m\"\u001b[39m)\n",
      "\u001b[0;31mNameError\u001b[0m: name 'text' is not defined"
     ]
    }
   ],
   "source": [
    "Decimal(replace(replace(text, \"$\", \"\"), \",\", \"\"))\n",
    "replace=str.replace\n",
    "replace(\"$12.45\",\"$\",\"\")"
   ]
  },
  {
   "cell_type": "code",
   "execution_count": 79,
   "id": "fb70cf87",
   "metadata": {},
   "outputs": [],
   "source": [
    "def remove( str, chars ):\n",
    "    if chars: \n",
    "        return remove( str.replace(chars[0],\"\"), chars[1:])\n",
    "    return str\n"
   ]
  },
  {
   "cell_type": "code",
   "execution_count": null,
   "id": "eefdd094",
   "metadata": {},
   "outputs": [],
   "source": []
  }
 ],
 "metadata": {
  "kernelspec": {
   "display_name": "Python 3 (ipykernel)",
   "language": "python",
   "name": "python3"
  },
  "language_info": {
   "codemirror_mode": {
    "name": "ipython",
    "version": 3
   },
   "file_extension": ".py",
   "mimetype": "text/x-python",
   "name": "python",
   "nbconvert_exporter": "python",
   "pygments_lexer": "ipython3",
   "version": "3.10.5"
  }
 },
 "nbformat": 4,
 "nbformat_minor": 5
}

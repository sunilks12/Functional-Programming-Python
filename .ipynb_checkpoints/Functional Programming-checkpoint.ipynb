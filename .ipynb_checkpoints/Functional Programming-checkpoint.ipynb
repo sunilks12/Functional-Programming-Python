{
 "cells": [
  {
   "cell_type": "code",
   "execution_count": 1,
   "id": "247dfb50",
   "metadata": {},
   "outputs": [],
   "source": [
    "import numpy as np\n",
    "import pandas as pd"
   ]
  },
  {
   "cell_type": "markdown",
   "id": "cad1bcdc",
   "metadata": {},
   "source": [
    "### PROBLEM 1"
   ]
  },
  {
   "cell_type": "code",
   "execution_count": 2,
   "id": "13465f56",
   "metadata": {},
   "outputs": [
    {
     "name": "stdout",
     "output_type": "stream",
     "text": [
      "23\n"
     ]
    }
   ],
   "source": [
    "s= 0\n",
    "for n in range(1, 10):\n",
    "    if n % 3 == 0 or n % 5 == 0:\n",
    "        s += n\n",
    "print(s)\n"
   ]
  },
  {
   "cell_type": "code",
   "execution_count": 3,
   "id": "b7ee838c",
   "metadata": {},
   "outputs": [
    {
     "name": "stdout",
     "output_type": "stream",
     "text": [
      "23\n"
     ]
    }
   ],
   "source": [
    "s=[]\n",
    "for n in range(1,10):\n",
    "    if n%3==0 or n%5==0:\n",
    "        s.append(n)\n",
    "print(sum(s))"
   ]
  },
  {
   "cell_type": "code",
   "execution_count": 4,
   "id": "14d67319",
   "metadata": {},
   "outputs": [],
   "source": [
    "class summablelist(list):\n",
    "    def sum(self):\n",
    "        s=0\n",
    "        for v in self.__iter__():\n",
    "            s=s+v\n",
    "        return s"
   ]
  },
  {
   "cell_type": "code",
   "execution_count": 69,
   "id": "ce235fca",
   "metadata": {},
   "outputs": [],
   "source": [
    "def until(n, filter_func, v):\n",
    "           if v == n: \n",
    "            return []\n",
    "           if filter_func(v):\n",
    "                return [v] + until( n, filter_func, v+1 )\n",
    "           else: \n",
    "            return until(n, filter_func, v+1)"
   ]
  },
  {
   "cell_type": "code",
   "execution_count": 71,
   "id": "a11053a3",
   "metadata": {},
   "outputs": [
    {
     "data": {
      "text/plain": [
       "[5,\n",
       " 6,\n",
       " 9,\n",
       " 10,\n",
       " 12,\n",
       " 15,\n",
       " 18,\n",
       " 20,\n",
       " 21,\n",
       " 24,\n",
       " 25,\n",
       " 27,\n",
       " 30,\n",
       " 33,\n",
       " 35,\n",
       " 36,\n",
       " 39,\n",
       " 40,\n",
       " 42,\n",
       " 45,\n",
       " 48,\n",
       " 50,\n",
       " 51,\n",
       " 54,\n",
       " 55,\n",
       " 57,\n",
       " 60,\n",
       " 63,\n",
       " 65,\n",
       " 66,\n",
       " 69,\n",
       " 70,\n",
       " 72,\n",
       " 75,\n",
       " 78,\n",
       " 80,\n",
       " 81,\n",
       " 84,\n",
       " 85,\n",
       " 87,\n",
       " 90,\n",
       " 93,\n",
       " 95,\n",
       " 96,\n",
       " 99]"
      ]
     },
     "execution_count": 71,
     "metadata": {},
     "output_type": "execute_result"
    }
   ],
   "source": [
    " until(100, lambda x: x%3==0 or x%5==0, 5)"
   ]
  },
  {
   "cell_type": "code",
   "execution_count": 44,
   "id": "7a3e82c8",
   "metadata": {},
   "outputs": [
    {
     "data": {
      "text/plain": [
       "23"
      ]
     },
     "execution_count": 44,
     "metadata": {},
     "output_type": "execute_result"
    }
   ],
   "source": [
    "sum(until(10, lambda x: x%3==0 or x%5==0,0))"
   ]
  },
  {
   "cell_type": "markdown",
   "id": "5e4d5581",
   "metadata": {},
   "source": [
    "# problem 2"
   ]
  },
  {
   "cell_type": "code",
   "execution_count": 54,
   "id": "61608812",
   "metadata": {},
   "outputs": [],
   "source": [
    "def numbers():\n",
    "    for i in range(1024):\n",
    "        print( \"=\", i )\n",
    "        yield i"
   ]
  },
  {
   "cell_type": "code",
   "execution_count": 55,
   "id": "d9473e99",
   "metadata": {},
   "outputs": [],
   "source": [
    "def sum_to(n):\n",
    "    sum=0\n",
    "    for i in numbers():\n",
    "        if i==n:\n",
    "            break\n",
    "        sum=sum+i\n",
    "    return sum\n",
    "        "
   ]
  },
  {
   "cell_type": "code",
   "execution_count": 58,
   "id": "9491bd49",
   "metadata": {},
   "outputs": [
    {
     "name": "stdout",
     "output_type": "stream",
     "text": [
      "= 0\n",
      "= 1\n",
      "= 2\n",
      "= 3\n",
      "= 4\n",
      "= 5\n",
      "= 6\n"
     ]
    },
    {
     "data": {
      "text/plain": [
       "15"
      ]
     },
     "execution_count": 58,
     "metadata": {},
     "output_type": "execute_result"
    }
   ],
   "source": [
    "sum_to(6)\n"
   ]
  },
  {
   "cell_type": "markdown",
   "id": "5eb31f9e",
   "metadata": {},
   "source": [
    "The sum_to() function will not evaluate the entire result of the numbers() function. It will break after only consuming a few values from the numbers() function. We can see this consumption of values in the following log:"
   ]
  },
  {
   "cell_type": "markdown",
   "id": "e6831947",
   "metadata": {},
   "source": [
    "# problem 3\n"
   ]
  },
  {
   "cell_type": "code",
   "execution_count": 68,
   "id": "4494f675",
   "metadata": {},
   "outputs": [],
   "source": [
    "import math \n",
    "def isprime(p):\n",
    "    if p < 2: \n",
    "        return False\n",
    "    if p == 2: \n",
    "        return True\n",
    "    if p % 2 == 0: \n",
    "        return False\n",
    "    return not any(p==0 for p in range(3,int(math.sqrt(n))+1,2))"
   ]
  },
  {
   "cell_type": "code",
   "execution_count": 67,
   "id": "48e868a4",
   "metadata": {},
   "outputs": [
    {
     "data": {
      "text/plain": [
       "True"
      ]
     },
     "execution_count": 67,
     "metadata": {},
     "output_type": "execute_result"
    }
   ],
   "source": [
    "isprime(9)"
   ]
  },
  {
   "cell_type": "code",
   "execution_count": 72,
   "id": "1cf587d5",
   "metadata": {},
   "outputs": [],
   "source": [
    "# problem 4"
   ]
  },
  {
   "cell_type": "code",
   "execution_count": 75,
   "id": "6f5ecdd9",
   "metadata": {},
   "outputs": [],
   "source": [
    "from decimal import *\n",
    "def clean_decimal(text):\n",
    "    if text is None:\n",
    "        return text\n",
    "    try:\n",
    "        return Decimal(text.replace(\"$\",\"\").replace(\",\", \"\"))\n",
    "    except InvalidOperation:\n",
    "        return text"
   ]
  },
  {
   "cell_type": "code",
   "execution_count": 76,
   "id": "0d19de4a",
   "metadata": {},
   "outputs": [],
   "source": [
    "# more efficient\n",
    "def replace(data, a, b):\n",
    "    return data.replace(a,b)\n",
    "    "
   ]
  },
  {
   "cell_type": "code",
   "execution_count": 78,
   "id": "f83b6a7b",
   "metadata": {},
   "outputs": [
    {
     "ename": "NameError",
     "evalue": "name 'text' is not defined",
     "output_type": "error",
     "traceback": [
      "\u001b[0;31m---------------------------------------------------------------------------\u001b[0m",
      "\u001b[0;31mNameError\u001b[0m                                 Traceback (most recent call last)",
      "Input \u001b[0;32mIn [78]\u001b[0m, in \u001b[0;36m<cell line: 1>\u001b[0;34m()\u001b[0m\n\u001b[0;32m----> 1\u001b[0m Decimal(replace(replace(\u001b[43mtext\u001b[49m, \u001b[38;5;124m\"\u001b[39m\u001b[38;5;124m$\u001b[39m\u001b[38;5;124m\"\u001b[39m, \u001b[38;5;124m\"\u001b[39m\u001b[38;5;124m\"\u001b[39m), \u001b[38;5;124m\"\u001b[39m\u001b[38;5;124m,\u001b[39m\u001b[38;5;124m\"\u001b[39m, \u001b[38;5;124m\"\u001b[39m\u001b[38;5;124m\"\u001b[39m))\n\u001b[1;32m      2\u001b[0m replace\u001b[38;5;241m=\u001b[39m\u001b[38;5;28mstr\u001b[39m\u001b[38;5;241m.\u001b[39mreplace\n\u001b[1;32m      3\u001b[0m replace(\u001b[38;5;124m\"\u001b[39m\u001b[38;5;124m$12.45\u001b[39m\u001b[38;5;124m\"\u001b[39m,\u001b[38;5;124m\"\u001b[39m\u001b[38;5;124m$\u001b[39m\u001b[38;5;124m\"\u001b[39m,\u001b[38;5;124m\"\u001b[39m\u001b[38;5;124m\"\u001b[39m)\n",
      "\u001b[0;31mNameError\u001b[0m: name 'text' is not defined"
     ]
    }
   ],
   "source": [
    "Decimal(replace(replace(text, \"$\", \"\"), \",\", \"\"))\n",
    "replace=str.replace\n",
    "replace(\"$12.45\",\"$\",\"\")"
   ]
  },
  {
   "cell_type": "code",
   "execution_count": 79,
   "id": "560a3416",
   "metadata": {},
   "outputs": [],
   "source": [
    "def remove( str, chars ):\n",
    "    if chars: \n",
    "        return remove( str.replace(chars[0],\"\"), chars[1:])\n",
    "    return str\n"
   ]
  },
  {
   "cell_type": "markdown",
   "id": "577e9297",
   "metadata": {},
   "source": [
    "#### the all() function assures that all values are True. The any() function assures that at least one value is True.\n"
   ]
  },
  {
   "cell_type": "markdown",
   "id": "47efed6f",
   "metadata": {},
   "source": [
    "In Python, we can switch the order of the terms and transcribe these to working code as follows:\n",
    "  -  not all(isprime(x) for x in someset)\n",
    "  -   any(not isprime(x) for x in someset)"
   ]
  },
  {
   "cell_type": "code",
   "execution_count": 2,
   "id": "2c7c8602",
   "metadata": {},
   "outputs": [
    {
     "data": {
      "text/plain": [
       "<zip at 0x10618d200>"
      ]
     },
     "execution_count": 2,
     "metadata": {},
     "output_type": "execute_result"
    }
   ],
   "source": [
    "xi= [1.47, 1.50, 1.52, 1.55, 1.57, 1.60, 1.63,\n",
    "       1.65, 1.68, 1.70, 1.73, 1.75, 1.78, 1.80,\n",
    "       1.83]\n",
    "yi= [52.21, 53.12, 54.48, 55.84, 57.20, 58.57,\n",
    "       59.93, 61.29,63.11, 64.47, 66.28, 68.10,\n",
    "       69.92, 72.19, 74.46]\n",
    "zip( xi, yi )"
   ]
  },
  {
   "cell_type": "code",
   "execution_count": 3,
   "id": "3061dca1",
   "metadata": {},
   "outputs": [
    {
     "data": {
      "text/plain": [
       "[(1.47, 52.21),\n",
       " (1.5, 53.12),\n",
       " (1.52, 54.48),\n",
       " (1.55, 55.84),\n",
       " (1.57, 57.2),\n",
       " (1.6, 58.57),\n",
       " (1.63, 59.93),\n",
       " (1.65, 61.29),\n",
       " (1.68, 63.11),\n",
       " (1.7, 64.47),\n",
       " (1.73, 66.28),\n",
       " (1.75, 68.1),\n",
       " (1.78, 69.92),\n",
       " (1.8, 72.19),\n",
       " (1.83, 74.46)]"
      ]
     },
     "execution_count": 3,
     "metadata": {},
     "output_type": "execute_result"
    }
   ],
   "source": [
    "list(zip( xi, yi))"
   ]
  },
  {
   "cell_type": "code",
   "execution_count": 4,
   "id": "bb560144",
   "metadata": {},
   "outputs": [
    {
     "data": {
      "text/plain": [
       "[(1, 'a'), (2, 'b')]"
      ]
     },
     "execution_count": 4,
     "metadata": {},
     "output_type": "execute_result"
    }
   ],
   "source": [
    "list(zip((1, 2, 3), ('a', 'b')))"
   ]
  },
  {
   "cell_type": "code",
   "execution_count": 5,
   "id": "92fc0620",
   "metadata": {},
   "outputs": [],
   "source": [
    "# unzip"
   ]
  },
  {
   "cell_type": "markdown",
   "id": "2981f04b",
   "metadata": {},
   "source": [
    "- p0= (x[0] for x in pairs)\n",
    "\n",
    "- p1= (x[1] for x in pairs)\n"
   ]
  },
  {
   "cell_type": "code",
   "execution_count": 7,
   "id": "ce98d452",
   "metadata": {},
   "outputs": [],
   "source": [
    "# flatten\n",
    "blocked = [['2', '3', '5', '7', '11', '13', '17',\n",
    "       '19', '23', '29'], ['31', '37', '41', '43', '47',\n",
    "       '53', '59', '61', '67', '71']]\n"
   ]
  },
  {
   "cell_type": "code",
   "execution_count": 8,
   "id": "35fe9b56",
   "metadata": {},
   "outputs": [
    {
     "data": {
      "text/plain": [
       "['2',\n",
       " '3',\n",
       " '5',\n",
       " '7',\n",
       " '11',\n",
       " '13',\n",
       " '17',\n",
       " '19',\n",
       " '23',\n",
       " '29',\n",
       " '31',\n",
       " '37',\n",
       " '41',\n",
       " '43',\n",
       " '47',\n",
       " '53',\n",
       " '59',\n",
       " '61',\n",
       " '67',\n",
       " '71']"
      ]
     },
     "execution_count": 8,
     "metadata": {},
     "output_type": "execute_result"
    }
   ],
   "source": [
    "list(x for line in blocked for x in line)"
   ]
  },
  {
   "cell_type": "code",
   "execution_count": 32,
   "id": "8dc63d55",
   "metadata": {},
   "outputs": [
    {
     "data": {
      "text/plain": [
       "['2',\n",
       " '3',\n",
       " '5',\n",
       " '7',\n",
       " '11',\n",
       " '13',\n",
       " '17',\n",
       " '19',\n",
       " '23',\n",
       " '29',\n",
       " '31',\n",
       " '37',\n",
       " '41',\n",
       " '43',\n",
       " '47',\n",
       " '53',\n",
       " '59',\n",
       " '61',\n",
       " '67',\n",
       " '71']"
      ]
     },
     "execution_count": 32,
     "metadata": {},
     "output_type": "execute_result"
    }
   ],
   "source": [
    "# structuring flat\n",
    "flat= ['2', '3', '5', '7', '11', '13', '17', '19',\n",
    "       '23', '29', '31', '37', '41', '43', '47', '53',\n",
    "       '59', '61', '67', '71']\n",
    "flat"
   ]
  },
  {
   "cell_type": "code",
   "execution_count": 20,
   "id": "ab81e5d0",
   "metadata": {},
   "outputs": [],
   "source": [
    "flat_iter=iter(flat)\n"
   ]
  },
  {
   "cell_type": "code",
   "execution_count": 21,
   "id": "9cec8990",
   "metadata": {},
   "outputs": [
    {
     "data": {
      "text/plain": [
       "[('2', '3', '5', '7', '11'),\n",
       " ('13', '17', '19', '23', '29'),\n",
       " ('31', '37', '41', '43', '47'),\n",
       " ('53', '59', '61', '67', '71')]"
      ]
     },
     "execution_count": 21,
     "metadata": {},
     "output_type": "execute_result"
    }
   ],
   "source": [
    "list(tuple(next(flat_iter) for i in range(5)) for row in range(len(flat)//5))"
   ]
  },
  {
   "cell_type": "markdown",
   "id": "e1558fa9",
   "metadata": {},
   "source": [
    "First, we created an iterator that exists outside either of the two loops that we'll use to create our sequence-of- sequences. The generator expression uses tuple(next(flat_iter) for i in range(5)) to create five tuples from the iterable values in the flat_iter variable. This expression is nested inside another generator that repeats the inner loop the proper number of times to create the required sequence of values.\n",
    "This works only when the flat list is divided evenly. If the last row has partial elements, we'll need to process them separately."
   ]
  },
  {
   "cell_type": "code",
   "execution_count": 29,
   "id": "f99c594c",
   "metadata": {},
   "outputs": [],
   "source": [
    "def group_by_seq(n, sequence):\n",
    "    flat_iter=iter(sequence)\n",
    "    full_sized_items=list(tuple(next(flat_iter) for i in range(n)) for row in range(len(sequence)//n))\n",
    "    trailer=tuple(flat_iter)\n",
    "    if trailer:\n",
    "        return full_sized_items + [trailer]\n",
    "    else:\n",
    "        return full_sized_items"
   ]
  },
  {
   "cell_type": "code",
   "execution_count": 31,
   "id": "acc987ae",
   "metadata": {},
   "outputs": [
    {
     "data": {
      "text/plain": [
       "[('2', '3', '5', '7', '11', '13', '17'),\n",
       " ('19', '23', '29', '31', '37', '41', '43'),\n",
       " ('47', '53', '59', '61', '67', '71')]"
      ]
     },
     "execution_count": 31,
     "metadata": {},
     "output_type": "execute_result"
    }
   ],
   "source": [
    "group_by_seq(7,['2', '3', '5', '7', '11', '13', '17', '19',\n",
    "       '23', '29', '31', '37', '41', '43', '47', '53',\n",
    "       '59', '61', '67', '71'])"
   ]
  },
  {
   "cell_type": "code",
   "execution_count": 34,
   "id": "117e0ab8",
   "metadata": {},
   "outputs": [
    {
     "data": {
      "text/plain": [
       "[('2', '3'),\n",
       " ('5', '7'),\n",
       " ('11', '13'),\n",
       " ('17', '19'),\n",
       " ('23', '29'),\n",
       " ('31', '37'),\n",
       " ('41', '43'),\n",
       " ('47', '53'),\n",
       " ('59', '61'),\n",
       " ('67', '71')]"
      ]
     },
     "execution_count": 34,
     "metadata": {},
     "output_type": "execute_result"
    }
   ],
   "source": [
    " list(zip(flat[0::2], flat[1::2]))"
   ]
  },
  {
   "cell_type": "markdown",
   "id": "b146f1f9",
   "metadata": {},
   "source": [
    "# LEARN PYTHON HARDWAY"
   ]
  },
  {
   "cell_type": "code",
   "execution_count": 40,
   "id": "2e317d2e",
   "metadata": {},
   "outputs": [],
   "source": [
    "def print_two(*args):\n",
    "    arg1, arg2=args\n",
    "    print(f'arg1:{arg1},arg2:{arg2}')"
   ]
  },
  {
   "cell_type": "code",
   "execution_count": 41,
   "id": "26b382b0",
   "metadata": {},
   "outputs": [],
   "source": [
    " # ok, that *args is actually pointless, we can just do this\n",
    "def print_two_again(arg1, arg2): \n",
    "    print(f\"arg1: {arg1}, arg2: {arg2}\")"
   ]
  },
  {
   "cell_type": "code",
   "execution_count": 42,
   "id": "733c2ace",
   "metadata": {},
   "outputs": [
    {
     "name": "stdout",
     "output_type": "stream",
     "text": [
      "arg1:Zed,arg2:Shaw\n",
      "arg1: Zed, arg2: Shaw\n"
     ]
    }
   ],
   "source": [
    "print_two(\"Zed\",\"Shaw\")\n",
    "print_two_again(\"Zed\",\"Shaw\")"
   ]
  },
  {
   "cell_type": "code",
   "execution_count": 44,
   "id": "f33a81d0",
   "metadata": {},
   "outputs": [],
   "source": [
    "def cheese_and_crackers(cheese_count, boxes_of_crackers): \n",
    "    print(f\"You have {cheese_count} cheeses!\")\n",
    "    print(f\"You have {boxes_of_crackers} boxes of crackers!\")\n",
    "    print(\"Man that's enough for a party!\")\n",
    "    print(\"Get a blanket.\\n\")"
   ]
  },
  {
   "cell_type": "code",
   "execution_count": 45,
   "id": "bf3a188d",
   "metadata": {},
   "outputs": [
    {
     "name": "stdout",
     "output_type": "stream",
     "text": [
      "We can just give the function numbers directly:\n",
      "You have 20 cheeses!\n",
      "You have 30 boxes of crackers!\n",
      "Man that's enough for a party!\n",
      "Get a blanket.\n",
      "\n"
     ]
    }
   ],
   "source": [
    "print(\"We can just give the function numbers directly:\")\n",
    "cheese_and_crackers(20, 30)"
   ]
  },
  {
   "cell_type": "code",
   "execution_count": 46,
   "id": "ec100953",
   "metadata": {},
   "outputs": [
    {
     "name": "stdout",
     "output_type": "stream",
     "text": [
      "OR, we can use variables from our script:\n",
      "You have 10 cheeses!\n",
      "You have 50 boxes of crackers!\n",
      "Man that's enough for a party!\n",
      "Get a blanket.\n",
      "\n"
     ]
    }
   ],
   "source": [
    "print(\"OR, we can use variables from our script:\")\n",
    "amount_of_cheese = 10\n",
    "amount_of_crackers = 50\n",
    "cheese_and_crackers(amount_of_cheese, amount_of_crackers)"
   ]
  },
  {
   "cell_type": "code",
   "execution_count": 47,
   "id": "f7b6dfeb",
   "metadata": {},
   "outputs": [
    {
     "name": "stdout",
     "output_type": "stream",
     "text": [
      "We can even do math inside too:\n",
      "You have 30 cheeses!\n",
      "You have 11 boxes of crackers!\n",
      "Man that's enough for a party!\n",
      "Get a blanket.\n",
      "\n"
     ]
    }
   ],
   "source": [
    "print(\"We can even do math inside too:\")\n",
    "cheese_and_crackers(10 + 20, 5 + 6)"
   ]
  },
  {
   "cell_type": "code",
   "execution_count": 48,
   "id": "80080cf8",
   "metadata": {},
   "outputs": [
    {
     "name": "stdout",
     "output_type": "stream",
     "text": [
      "And we can combine the two, variables and math:\n",
      "You have 110 cheeses!\n",
      "You have 1050 boxes of crackers!\n",
      "Man that's enough for a party!\n",
      "Get a blanket.\n",
      "\n"
     ]
    }
   ],
   "source": [
    "print(\"And we can combine the two, variables and math:\")\n",
    "cheese_and_crackers(amount_of_cheese + 100, amount_of_crackers + 1000)"
   ]
  },
  {
   "cell_type": "code",
   "execution_count": 49,
   "id": "974929e8",
   "metadata": {},
   "outputs": [],
   "source": [
    "def break_words(stuff):\n",
    "    words=stuff.split(' ')\n",
    "    return words\n",
    "    "
   ]
  },
  {
   "cell_type": "code",
   "execution_count": 50,
   "id": "d0142277",
   "metadata": {},
   "outputs": [],
   "source": [
    "def sort_words(words):\n",
    "    \"\"\"Sorts the words.\"\"\"\n",
    "    return sorted(words)"
   ]
  },
  {
   "cell_type": "code",
   "execution_count": 52,
   "id": "3a694e99",
   "metadata": {},
   "outputs": [],
   "source": [
    "def print_first_word(words):\n",
    "    \"\"\"Prints the first word after popping it off.\"\"\"\n",
    "    word = words.pop(0)\n",
    "    print(word)\n",
    "\n",
    "def print_last_word(words):\n",
    "    \"\"\"Prints the last word after popping it off.\"\"\"\n",
    "    word = words.pop(-1)\n",
    "    print(word)\n",
    "\n",
    "def sort_sentence(sentence):\n",
    "    \"\"\"Takes in a full sentence and returns the sorted words.\"\"\"\n",
    "    words = break_words(sentence)\n",
    "    return sort_words(words)\n",
    "\n",
    "def print_first_and_last(sentence):\n",
    "    \"\"\"Prints the first and last words of the sentence.\"\"\"\n",
    "    words = break_words(sentence)\n",
    "    print_first_word(words)\n",
    "    print_last_word(words)\n",
    "\n",
    "def print_first_and_last_sorted(sentence):\n",
    "    \"\"\"Sorts the words then prints the first and last one.\"\"\"\n",
    "    words = sort_sentence(sentence)\n",
    "    print_first_word(words)\n",
    "    print_last_word(words)"
   ]
  },
  {
   "cell_type": "code",
   "execution_count": 55,
   "id": "0e1af001",
   "metadata": {},
   "outputs": [],
   "source": [
    "the_count = [1, 2, 3, 4, 5]\n",
    "fruits = ['apples', 'oranges', 'pears', 'apricots']\n",
    "change = [1, 'pennies', 2, 'dimes', 3, 'quarters']"
   ]
  },
  {
   "cell_type": "code",
   "execution_count": 57,
   "id": "ce9dd08d",
   "metadata": {},
   "outputs": [
    {
     "name": "stdout",
     "output_type": "stream",
     "text": [
      "the count of 1\n",
      "the count of 2\n",
      "the count of 3\n",
      "the count of 4\n",
      "the count of 5\n"
     ]
    }
   ],
   "source": [
    "for number in the_count:\n",
    "    print(f'the count of {number}')"
   ]
  },
  {
   "cell_type": "code",
   "execution_count": 59,
   "id": "0c687052",
   "metadata": {},
   "outputs": [
    {
     "name": "stdout",
     "output_type": "stream",
     "text": [
      "Adding 0 to the list.\n",
      "Adding 1 to the list.\n",
      "Adding 2 to the list.\n",
      "Adding 3 to the list.\n",
      "Adding 4 to the list.\n",
      "Adding 5 to the list.\n",
      "Element was: 0\n",
      "Element was: 1\n",
      "Element was: 2\n",
      "Element was: 3\n",
      "Element was: 4\n",
      "Element was: 5\n"
     ]
    }
   ],
   "source": [
    "# we can also build lists, first start with an empty one\n",
    "elements = []\n",
    "# then use the range function to do 0 to 5 counts\n",
    "for i in range(0, 6):\n",
    "    print(f\"Adding {i} to the list.\")\n",
    "# append is a function that lists understand\n",
    "    elements.append(i)\n",
    "\n",
    "# now we can print them out too\n",
    "for i in elements:\n",
    "    print(f\"Element was: {i}\")"
   ]
  },
  {
   "cell_type": "code",
   "execution_count": 68,
   "id": "0e66689f",
   "metadata": {},
   "outputs": [],
   "source": [
    "def num_list(n):\n",
    "    i=0\n",
    "    lst=[]\n",
    "    while i<n:\n",
    "        print(f\"At the top i is {i}\")\n",
    "        lst.append(i)\n",
    "        i=i+1\n",
    "        print(\"Numbers now: \", lst)\n",
    "        print(f\"At the bottom i is {i}\") \n",
    "        print(\"The numbers: \")\n",
    "    for num in lst: \n",
    "        print(num)\n",
    "    #return num"
   ]
  },
  {
   "cell_type": "code",
   "execution_count": 69,
   "id": "5b334274",
   "metadata": {},
   "outputs": [
    {
     "name": "stdout",
     "output_type": "stream",
     "text": [
      "At the top i is 0\n",
      "Numbers now:  [0]\n",
      "At the bottom i is 1\n",
      "The numbers: \n",
      "At the top i is 1\n",
      "Numbers now:  [0, 1]\n",
      "At the bottom i is 2\n",
      "The numbers: \n",
      "At the top i is 2\n",
      "Numbers now:  [0, 1, 2]\n",
      "At the bottom i is 3\n",
      "The numbers: \n",
      "At the top i is 3\n",
      "Numbers now:  [0, 1, 2, 3]\n",
      "At the bottom i is 4\n",
      "The numbers: \n",
      "At the top i is 4\n",
      "Numbers now:  [0, 1, 2, 3, 4]\n",
      "At the bottom i is 5\n",
      "The numbers: \n",
      "At the top i is 5\n",
      "Numbers now:  [0, 1, 2, 3, 4, 5]\n",
      "At the bottom i is 6\n",
      "The numbers: \n",
      "At the top i is 6\n",
      "Numbers now:  [0, 1, 2, 3, 4, 5, 6]\n",
      "At the bottom i is 7\n",
      "The numbers: \n",
      "0\n",
      "1\n",
      "2\n",
      "3\n",
      "4\n",
      "5\n",
      "6\n"
     ]
    }
   ],
   "source": [
    "num_list(7)"
   ]
  },
  {
   "cell_type": "code",
   "execution_count": 6,
   "id": "aba099af",
   "metadata": {},
   "outputs": [],
   "source": [
    "from sys import exit\n",
    "# to make dead function work\n",
    "def dead(why):\n",
    "    print(why, \"Good job!\")\n",
    "    exit(0)\n",
    "# actual code    \n",
    "def gold_room():\n",
    "    \n",
    "    print(\"This room is full of gold. How much do you take?\")\n",
    "    choice = input(\"> \")\n",
    "    if \"0\" in choice or \"1\" in choice:\n",
    "        how_much = int(choice)\n",
    "    else:\n",
    "        dead(\"Man, learn to type a number.\")\n",
    "    if how_much < 50:\n",
    "        print(\"Nice, you're not greedy, you win!\") \n",
    "        exit(0)\n",
    "    else:\n",
    "        dead(\"You greedy bastard!\")"
   ]
  },
  {
   "cell_type": "code",
   "execution_count": 7,
   "id": "2c7ff361",
   "metadata": {},
   "outputs": [
    {
     "name": "stdout",
     "output_type": "stream",
     "text": [
      "This room is full of gold. How much do you take?\n",
      "> 34\n",
      "Man, learn to type a number. Good job!\n"
     ]
    },
    {
     "ename": "SystemExit",
     "evalue": "0",
     "output_type": "error",
     "traceback": [
      "An exception has occurred, use %tb to see the full traceback.\n",
      "\u001b[0;31mSystemExit\u001b[0m\u001b[0;31m:\u001b[0m 0\n"
     ]
    },
    {
     "name": "stderr",
     "output_type": "stream",
     "text": [
      "/opt/homebrew/Cellar/jupyterlab/3.4.3/libexec/lib/python3.10/site-packages/IPython/core/interactiveshell.py:3406: UserWarning: To exit: use 'exit', 'quit', or Ctrl-D.\n",
      "  warn(\"To exit: use 'exit', 'quit', or Ctrl-D.\", stacklevel=1)\n"
     ]
    }
   ],
   "source": [
    "gold_room()"
   ]
  },
  {
   "cell_type": "code",
   "execution_count": 11,
   "id": "d50aa685",
   "metadata": {},
   "outputs": [],
   "source": [
    "def bear_room():\n",
    "    print(\"There is a bear here.\")\n",
    "    print(\"The bear has a bunch of honey.\")\n",
    "    print(\"The fat bear is in front of another door.\") \n",
    "    print(\"How are you going to move the bear?\")\n",
    "    bear_moved = False\n",
    "    while True:\n",
    "        choice = input(\"> \")\n",
    "        if choice == \"take honey\":\n",
    "            dead(\"The bear looks at you then slaps your face off.\")\n",
    "        elif choice == \"taunt bear\" and not bear_moved: \n",
    "            print(\"The bear has moved from the door.\") \n",
    "            print(\"You can go through it now.\")\n",
    "            bear_moved = True\n",
    "        elif choice == \"taunt bear\" and bear_moved:\n",
    "            dead(\"The bear gets pissed off and chews your leg off.\")\n",
    "        elif choice == \"open door\" and bear_moved: \n",
    "            gold_room()\n",
    "        else:\n",
    "            print(\"I got no idea what that means.\")"
   ]
  },
  {
   "cell_type": "code",
   "execution_count": 15,
   "id": "b1447782",
   "metadata": {},
   "outputs": [
    {
     "name": "stdout",
     "output_type": "stream",
     "text": [
      "Wait there are not 10 things in that list. Let's fix that.\n",
      "Adding:  Boy\n",
      "There are 7 items now.\n",
      "Adding:  Girl\n",
      "There are 8 items now.\n",
      "Adding:  Banana\n",
      "There are 9 items now.\n",
      "Adding:  Corn\n",
      "There are 10 items now.\n",
      "There we go:  ['Apples', 'Oranges', 'Crows', 'Telephone', 'Light', 'Sugar', 'Boy', 'Girl', 'Banana', 'Corn']\n",
      "Let's do some things with stuff.\n",
      "Oranges\n",
      "Corn\n",
      "Apples Oranges Crows Telephone Light Sugar Boy Girl Banana Corn\n",
      "Telephone#Light\n"
     ]
    }
   ],
   "source": [
    "ten_things = \"Apples Oranges Crows Telephone Light Sugar\" \n",
    "print(\"Wait there are not 10 things in that list. Let's fix that.\")\n",
    "stuff = ten_things.split(' ')\n",
    "more_stuff = [\"Day\", \"Night\", \"Song\", \"Frisbee\",\"Corn\", \"Banana\", \"Girl\", \"Boy\"]\n",
    "while len(stuff) != 10:\n",
    "    next_one = more_stuff.pop()\n",
    "    print(\"Adding: \", next_one) \n",
    "    stuff.append(next_one)\n",
    "    print(f\"There are {len(stuff)} items now.\")\n",
    "print(\"There we go: \", stuff) \n",
    "print(\"Let's do some things with stuff.\")\n",
    "print(stuff[1])\n",
    "print(stuff[-1]) # whoa! fancy 21 print(stuff.pop())\n",
    "print(' '.join(stuff)) # what? cool!\n",
    "print('#'.join(stuff[3:5]))"
   ]
  },
  {
   "cell_type": "code",
   "execution_count": 19,
   "id": "30a648b4",
   "metadata": {},
   "outputs": [
    {
     "name": "stdout",
     "output_type": "stream",
     "text": [
      "I AM APPLES!\n"
     ]
    }
   ],
   "source": [
    "mystuff = {'apple': \"I AM APPLES!\"}\n",
    "print(mystuff['apple'])\n",
    "# this has to go as .py file in order to source it in the next code"
   ]
  },
  {
   "cell_type": "code",
   "execution_count": 20,
   "id": "daeb7d92",
   "metadata": {},
   "outputs": [],
   "source": [
    "# this goes in mystuff.py\n",
    "def apple():\n",
    "    print(\"I AM APPLES!\")"
   ]
  },
  {
   "cell_type": "code",
   "execution_count": 21,
   "id": "b49088b6",
   "metadata": {},
   "outputs": [
    {
     "ename": "ModuleNotFoundError",
     "evalue": "No module named 'mystuff'",
     "output_type": "error",
     "traceback": [
      "\u001b[0;31m---------------------------------------------------------------------------\u001b[0m",
      "\u001b[0;31mModuleNotFoundError\u001b[0m                       Traceback (most recent call last)",
      "Input \u001b[0;32mIn [21]\u001b[0m, in \u001b[0;36m<cell line: 1>\u001b[0;34m()\u001b[0m\n\u001b[0;32m----> 1\u001b[0m \u001b[38;5;28;01mimport\u001b[39;00m \u001b[38;5;21;01mmystuff\u001b[39;00m \n\u001b[1;32m      2\u001b[0m mystuff\u001b[38;5;241m.\u001b[39mapple()\n",
      "\u001b[0;31mModuleNotFoundError\u001b[0m: No module named 'mystuff'"
     ]
    }
   ],
   "source": [
    "import mystuff \n",
    "mystuff.apple()"
   ]
  },
  {
   "cell_type": "code",
   "execution_count": 22,
   "id": "c028220c",
   "metadata": {},
   "outputs": [],
   "source": [
    "def apple():\n",
    "    print(\"I AM APPLES!\")\n",
    "\n",
    "# this is just a variable\n",
    "tangerine = \"Living reflection of a dream\""
   ]
  },
  {
   "cell_type": "code",
   "execution_count": 23,
   "id": "ad8ce32d",
   "metadata": {},
   "outputs": [
    {
     "ename": "ModuleNotFoundError",
     "evalue": "No module named 'mystuff'",
     "output_type": "error",
     "traceback": [
      "\u001b[0;31m---------------------------------------------------------------------------\u001b[0m",
      "\u001b[0;31mModuleNotFoundError\u001b[0m                       Traceback (most recent call last)",
      "Input \u001b[0;32mIn [23]\u001b[0m, in \u001b[0;36m<cell line: 1>\u001b[0;34m()\u001b[0m\n\u001b[0;32m----> 1\u001b[0m \u001b[38;5;28;01mimport\u001b[39;00m \u001b[38;5;21;01mmystuff\u001b[39;00m\n\u001b[1;32m      3\u001b[0m mystuff\u001b[38;5;241m.\u001b[39mapple()\n\u001b[1;32m      4\u001b[0m \u001b[38;5;28mprint\u001b[39m(mystuff\u001b[38;5;241m.\u001b[39mtangerine)\n",
      "\u001b[0;31mModuleNotFoundError\u001b[0m: No module named 'mystuff'"
     ]
    }
   ],
   "source": [
    "import mystuff\n",
    "mystuff.apple()\n",
    "print(mystuff.tangerine)"
   ]
  },
  {
   "cell_type": "code",
   "execution_count": 45,
   "id": "3728112a",
   "metadata": {},
   "outputs": [],
   "source": [
    "# using class\n",
    "class mystuff(object):\n",
    "    def __init__(self):\n",
    "        self.tangerine=\"And now a thousand years between\"\n",
    "        self.hello=\"how are you\"\n",
    "    def orange(self):\n",
    "        print('hey')\n",
    "    def apple(self):\n",
    "        print(\"I am apples\")\n",
    "    def addition(self,a,b):\n",
    "        print('addition is', sum([a,b]))\n"
   ]
  },
  {
   "cell_type": "code",
   "execution_count": 46,
   "id": "de15b2d7",
   "metadata": {},
   "outputs": [
    {
     "name": "stdout",
     "output_type": "stream",
     "text": [
      "I am apples\n",
      "hey\n",
      "And now a thousand years between\n",
      "how are you\n",
      "addition is 7\n"
     ]
    }
   ],
   "source": [
    "thing = mystuff()\n",
    "thing.apple()\n",
    "thing.orange()\n",
    "print(thing.tangerine)\n",
    "print(thing.hello)\n",
    "thing.addition(3,4)"
   ]
  },
  {
   "cell_type": "markdown",
   "id": "8df61814",
   "metadata": {},
   "source": [
    "__init__ you then get this extra variable, self, which is that empty object Python made for you, and you can set variables on it just like you would with a module, dictionary, or other object."
   ]
  },
  {
   "cell_type": "code",
   "execution_count": 47,
   "id": "66661760",
   "metadata": {},
   "outputs": [],
   "source": [
    "class song(object):\n",
    "    \n",
    "    def __init__(self, lyrics):\n",
    "        self.lyrics=lyrics\n",
    "    \n",
    "    def sing_me_song(self):\n",
    "        for line in self.lyrics:\n",
    "            print(line)\n",
    "        "
   ]
  },
  {
   "cell_type": "code",
   "execution_count": 48,
   "id": "0598a439",
   "metadata": {},
   "outputs": [],
   "source": [
    "happy_bday=song([\"hello how are you\",\"how do you do\",\"I am good\"])\n"
   ]
  },
  {
   "cell_type": "code",
   "execution_count": 50,
   "id": "a20e5319",
   "metadata": {},
   "outputs": [
    {
     "name": "stdout",
     "output_type": "stream",
     "text": [
      "hello how are you\n",
      "how do you do\n",
      "I am good\n"
     ]
    }
   ],
   "source": [
    "happy_bday.sing_me_song()"
   ]
  },
  {
   "cell_type": "code",
   "execution_count": 80,
   "id": "d77a436a",
   "metadata": {},
   "outputs": [],
   "source": [
    "class song:\n",
    "    \n",
    "    def __init__(self):\n",
    "        self.lyrics=[\"hello how are you\",\"how do you do\",\"I am good\",\"hello\"]\n",
    "    \n",
    "    def sing_me_song(self):\n",
    "        for line in self.lyrics:\n",
    "            print(line)\n",
    "# when passing lyrics as variable then no need to pass lyrics in init arguement         "
   ]
  },
  {
   "cell_type": "code",
   "execution_count": 79,
   "id": "e3bbc80a",
   "metadata": {},
   "outputs": [
    {
     "name": "stdout",
     "output_type": "stream",
     "text": [
      "hello how are you\n",
      "how do you do\n",
      "I am good\n",
      "hello\n"
     ]
    }
   ],
   "source": [
    "song().sing_me_song()"
   ]
  },
  {
   "cell_type": "code",
   "execution_count": 124,
   "id": "e0393fbe",
   "metadata": {},
   "outputs": [],
   "source": [
    "class song:\n",
    "    \n",
    "    def __init__(self):\n",
    "        self.lyrics=[\"hello how are you\",\"how do you do\",\"I am good\",\"hello\"]\n",
    "        self.album=['One Direction','Akon','Weeknd']\n",
    "    \n",
    "    def sing_me_song(self):\n",
    "        for line in self.lyrics:\n",
    "            print(line)\n",
    "        for i in self.album:\n",
    "            print()\n",
    "        "
   ]
  },
  {
   "cell_type": "code",
   "execution_count": 125,
   "id": "9b9942bc",
   "metadata": {},
   "outputs": [
    {
     "name": "stdout",
     "output_type": "stream",
     "text": [
      "hello how are you\n",
      "how do you do\n",
      "I am good\n",
      "hello\n",
      "One Direction\n",
      "Akon\n",
      "Weeknd\n"
     ]
    }
   ],
   "source": [
    "song().sing_me_song()"
   ]
  },
  {
   "cell_type": "code",
   "execution_count": 119,
   "id": "d57dde0c",
   "metadata": {},
   "outputs": [],
   "source": [
    "class song:\n",
    "    \n",
    "    def __init__(self,lyrics,album):\n",
    "        self.lyrics=lyrics\n",
    "        self.album=album\n",
    "    \n",
    "    def sing_me_song(self):\n",
    "        for line in self.lyrics:\n",
    "            print(line)\n",
    "        for i in self.album:\n",
    "            print(i)\n",
    "        "
   ]
  },
  {
   "cell_type": "code",
   "execution_count": 120,
   "id": "ddb9ce92",
   "metadata": {},
   "outputs": [
    {
     "name": "stdout",
     "output_type": "stream",
     "text": [
      "hello how are you\n",
      "how do you do\n",
      "I am good\n",
      "hello\n",
      "One Direction\n",
      "Akon\n",
      "Weeknd\n"
     ]
    }
   ],
   "source": [
    "song([\"hello how are you\",\"how do you do\",\"I am good\",\"hello\"],['One Direction','Akon','Weeknd']).sing_me_song()"
   ]
  },
  {
   "cell_type": "markdown",
   "id": "837751b1",
   "metadata": {},
   "source": [
    "# game"
   ]
  },
  {
   "cell_type": "code",
   "execution_count": 127,
   "id": "f1e4f244",
   "metadata": {},
   "outputs": [],
   "source": [
    "from sys import exit\n",
    "from random import randint\n",
    "from textwrap import dedent"
   ]
  },
  {
   "cell_type": "code",
   "execution_count": 148,
   "id": "2b457fc9",
   "metadata": {},
   "outputs": [
    {
     "name": "stdout",
     "output_type": "stream",
     "text": [
      "\n",
      "The Gothons of Planet Percal #25 have invaded your ship and \n",
      "destroyed your entire crew. You are the last surviving \n",
      "member and your last mission is to get the neutron destruct \n",
      "bomb from the Weapons Armory, put it in the bridge, and \n",
      "blow the ship up after getting into an escape pod.\n",
      "You're running down the central corridor to the Weapons \n",
      "Armory when a Gothon jumps out, red scaly skin, dark grimy \n",
      "teeth, and evil clown costume flowing around his hate \n",
      "filled body. He's blocking the door to the Armory and \n",
      "about to pull a weapon to blast you.\n",
      "\n",
      "> tell a joke!\n",
      "DOES NOT COMPUTE!\n",
      "\n",
      "The Gothons of Planet Percal #25 have invaded your ship and \n",
      "destroyed your entire crew. You are the last surviving \n",
      "member and your last mission is to get the neutron destruct \n",
      "bomb from the Weapons Armory, put it in the bridge, and \n",
      "blow the ship up after getting into an escape pod.\n",
      "You're running down the central corridor to the Weapons \n",
      "Armory when a Gothon jumps out, red scaly skin, dark grimy \n",
      "teeth, and evil clown costume flowing around his hate \n",
      "filled body. He's blocking the door to the Armory and \n",
      "about to pull a weapon to blast you.\n",
      "\n",
      "> tell a joke\n",
      "\n",
      "Lucky for you they made you learn Gothon insults in\n",
      "the academy. You tell the one Gothon joke you know:\n",
      "Lbhe zbgure vf fb sng, jura fur fvgf nebhaq gur ubhfr,\n",
      "fur fvgf nebhaq gur ubhfr. The Gothon stops, tries\n",
      "not to laugh, then busts out laughing and can't move.\n",
      "While he's laughing you run up and shoot him square in\n",
      "the head putting him down, then jump through the\n",
      "Weapon Armory door.\n",
      "\n",
      "\n",
      "You do a dive roll into the Weapon Armory, crouch and scan\n",
      "the room for more Gothons that might be hiding. It's dead\n",
      "quiet, too quiet. You stand up and run to the far side of\n",
      "the room and find the neutron bomb in its container.\n",
      "There's a keypad lock on the box and you need the code to\n",
      "get the bomb out. If you get the code wrong 10 times then\n",
      "the lock closes forever and you can't get the bomb.  The\n",
      "code is 3 digits.\n",
      "\n"
     ]
    },
    {
     "ename": "KeyboardInterrupt",
     "evalue": "Interrupted by user",
     "output_type": "error",
     "traceback": [
      "\u001b[0;31m---------------------------------------------------------------------------\u001b[0m",
      "\u001b[0;31mKeyboardInterrupt\u001b[0m                         Traceback (most recent call last)",
      "Input \u001b[0;32mIn [148]\u001b[0m, in \u001b[0;36m<cell line: 245>\u001b[0;34m()\u001b[0m\n\u001b[1;32m    243\u001b[0m a_map \u001b[38;5;241m=\u001b[39m Map(\u001b[38;5;124m'\u001b[39m\u001b[38;5;124mcentral_corridor\u001b[39m\u001b[38;5;124m'\u001b[39m)\n\u001b[1;32m    244\u001b[0m a_game \u001b[38;5;241m=\u001b[39m Engine(a_map)\n\u001b[0;32m--> 245\u001b[0m \u001b[43ma_game\u001b[49m\u001b[38;5;241;43m.\u001b[39;49m\u001b[43mplay\u001b[49m\u001b[43m(\u001b[49m\u001b[43m)\u001b[49m\n",
      "Input \u001b[0;32mIn [148]\u001b[0m, in \u001b[0;36mEngine.play\u001b[0;34m(self)\u001b[0m\n\u001b[1;32m     14\u001b[0m last_scene \u001b[38;5;241m=\u001b[39m \u001b[38;5;28mself\u001b[39m\u001b[38;5;241m.\u001b[39mscene_map\u001b[38;5;241m.\u001b[39mnext_scene(\u001b[38;5;124m'\u001b[39m\u001b[38;5;124mfinished\u001b[39m\u001b[38;5;124m'\u001b[39m)\n\u001b[1;32m     16\u001b[0m \u001b[38;5;28;01mwhile\u001b[39;00m current_scene \u001b[38;5;241m!=\u001b[39m last_scene:\n\u001b[0;32m---> 17\u001b[0m     next_scene_name \u001b[38;5;241m=\u001b[39m \u001b[43mcurrent_scene\u001b[49m\u001b[38;5;241;43m.\u001b[39;49m\u001b[43menter\u001b[49m\u001b[43m(\u001b[49m\u001b[43m)\u001b[49m\n\u001b[1;32m     18\u001b[0m     current_scene \u001b[38;5;241m=\u001b[39m \u001b[38;5;28mself\u001b[39m\u001b[38;5;241m.\u001b[39mscene_map\u001b[38;5;241m.\u001b[39mnext_scene(next_scene_name)\n\u001b[1;32m     20\u001b[0m \u001b[38;5;66;03m# be sure to print out the last scene\u001b[39;00m\n",
      "Input \u001b[0;32mIn [148]\u001b[0m, in \u001b[0;36mLaserWeaponArmory.enter\u001b[0;34m(self)\u001b[0m\n\u001b[1;32m     99\u001b[0m         \u001b[38;5;28mprint\u001b[39m(dedent(\u001b[38;5;124m\"\"\"\u001b[39m\n\u001b[1;32m    100\u001b[0m \u001b[38;5;124m\t\t\tYou do a dive roll into the Weapon Armory, crouch and scan\u001b[39m\n\u001b[1;32m    101\u001b[0m \u001b[38;5;124m\t\t\tthe room for more Gothons that might be hiding. It\u001b[39m\u001b[38;5;124m'\u001b[39m\u001b[38;5;124ms dead\u001b[39m\n\u001b[0;32m   (...)\u001b[0m\n\u001b[1;32m    107\u001b[0m \u001b[38;5;124m\t\t\tcode is 3 digits.\u001b[39m\n\u001b[1;32m    108\u001b[0m \u001b[38;5;124m\t\t\t\u001b[39m\u001b[38;5;124m\"\"\"\u001b[39m))\n\u001b[1;32m    110\u001b[0m         code \u001b[38;5;241m=\u001b[39m \u001b[38;5;124mf\u001b[39m\u001b[38;5;124m\"\u001b[39m\u001b[38;5;132;01m{\u001b[39;00mrandint(\u001b[38;5;241m1\u001b[39m,\u001b[38;5;241m9\u001b[39m)\u001b[38;5;132;01m}\u001b[39;00m\u001b[38;5;132;01m{\u001b[39;00mrandint(\u001b[38;5;241m1\u001b[39m,\u001b[38;5;241m9\u001b[39m)\u001b[38;5;132;01m}\u001b[39;00m\u001b[38;5;132;01m{\u001b[39;00mrandint(\u001b[38;5;241m1\u001b[39m,\u001b[38;5;241m9\u001b[39m)\u001b[38;5;132;01m}\u001b[39;00m\u001b[38;5;124m\"\u001b[39m\n\u001b[0;32m--> 111\u001b[0m         guess \u001b[38;5;241m=\u001b[39m \u001b[38;5;28;43minput\u001b[39;49m\u001b[43m(\u001b[49m\u001b[38;5;124;43m\"\u001b[39;49m\u001b[38;5;124;43m[keypad]> \u001b[39;49m\u001b[38;5;124;43m\"\u001b[39;49m\u001b[43m)\u001b[49m\n\u001b[1;32m    112\u001b[0m         guesses \u001b[38;5;241m=\u001b[39m \u001b[38;5;241m0\u001b[39m\n\u001b[1;32m    114\u001b[0m         \u001b[38;5;28;01mwhile\u001b[39;00m guess \u001b[38;5;241m!=\u001b[39m code \u001b[38;5;129;01mand\u001b[39;00m guesses \u001b[38;5;241m<\u001b[39m \u001b[38;5;241m10\u001b[39m:\n",
      "File \u001b[0;32m/opt/homebrew/Cellar/jupyterlab/3.4.3/libexec/lib/python3.10/site-packages/ipykernel/kernelbase.py:1177\u001b[0m, in \u001b[0;36mKernel.raw_input\u001b[0;34m(self, prompt)\u001b[0m\n\u001b[1;32m   1173\u001b[0m \u001b[38;5;28;01mif\u001b[39;00m \u001b[38;5;129;01mnot\u001b[39;00m \u001b[38;5;28mself\u001b[39m\u001b[38;5;241m.\u001b[39m_allow_stdin:\n\u001b[1;32m   1174\u001b[0m     \u001b[38;5;28;01mraise\u001b[39;00m StdinNotImplementedError(\n\u001b[1;32m   1175\u001b[0m         \u001b[38;5;124m\"\u001b[39m\u001b[38;5;124mraw_input was called, but this frontend does not support input requests.\u001b[39m\u001b[38;5;124m\"\u001b[39m\n\u001b[1;32m   1176\u001b[0m     )\n\u001b[0;32m-> 1177\u001b[0m \u001b[38;5;28;01mreturn\u001b[39;00m \u001b[38;5;28;43mself\u001b[39;49m\u001b[38;5;241;43m.\u001b[39;49m\u001b[43m_input_request\u001b[49m\u001b[43m(\u001b[49m\n\u001b[1;32m   1178\u001b[0m \u001b[43m    \u001b[49m\u001b[38;5;28;43mstr\u001b[39;49m\u001b[43m(\u001b[49m\u001b[43mprompt\u001b[49m\u001b[43m)\u001b[49m\u001b[43m,\u001b[49m\n\u001b[1;32m   1179\u001b[0m \u001b[43m    \u001b[49m\u001b[38;5;28;43mself\u001b[39;49m\u001b[38;5;241;43m.\u001b[39;49m\u001b[43m_parent_ident\u001b[49m\u001b[43m[\u001b[49m\u001b[38;5;124;43m\"\u001b[39;49m\u001b[38;5;124;43mshell\u001b[39;49m\u001b[38;5;124;43m\"\u001b[39;49m\u001b[43m]\u001b[49m\u001b[43m,\u001b[49m\n\u001b[1;32m   1180\u001b[0m \u001b[43m    \u001b[49m\u001b[38;5;28;43mself\u001b[39;49m\u001b[38;5;241;43m.\u001b[39;49m\u001b[43mget_parent\u001b[49m\u001b[43m(\u001b[49m\u001b[38;5;124;43m\"\u001b[39;49m\u001b[38;5;124;43mshell\u001b[39;49m\u001b[38;5;124;43m\"\u001b[39;49m\u001b[43m)\u001b[49m\u001b[43m,\u001b[49m\n\u001b[1;32m   1181\u001b[0m \u001b[43m    \u001b[49m\u001b[43mpassword\u001b[49m\u001b[38;5;241;43m=\u001b[39;49m\u001b[38;5;28;43;01mFalse\u001b[39;49;00m\u001b[43m,\u001b[49m\n\u001b[1;32m   1182\u001b[0m \u001b[43m\u001b[49m\u001b[43m)\u001b[49m\n",
      "File \u001b[0;32m/opt/homebrew/Cellar/jupyterlab/3.4.3/libexec/lib/python3.10/site-packages/ipykernel/kernelbase.py:1219\u001b[0m, in \u001b[0;36mKernel._input_request\u001b[0;34m(self, prompt, ident, parent, password)\u001b[0m\n\u001b[1;32m   1216\u001b[0m             \u001b[38;5;28;01mbreak\u001b[39;00m\n\u001b[1;32m   1217\u001b[0m \u001b[38;5;28;01mexcept\u001b[39;00m \u001b[38;5;167;01mKeyboardInterrupt\u001b[39;00m:\n\u001b[1;32m   1218\u001b[0m     \u001b[38;5;66;03m# re-raise KeyboardInterrupt, to truncate traceback\u001b[39;00m\n\u001b[0;32m-> 1219\u001b[0m     \u001b[38;5;28;01mraise\u001b[39;00m \u001b[38;5;167;01mKeyboardInterrupt\u001b[39;00m(\u001b[38;5;124m\"\u001b[39m\u001b[38;5;124mInterrupted by user\u001b[39m\u001b[38;5;124m\"\u001b[39m) \u001b[38;5;28;01mfrom\u001b[39;00m \u001b[38;5;28mNone\u001b[39m\n\u001b[1;32m   1220\u001b[0m \u001b[38;5;28;01mexcept\u001b[39;00m \u001b[38;5;167;01mException\u001b[39;00m:\n\u001b[1;32m   1221\u001b[0m     \u001b[38;5;28mself\u001b[39m\u001b[38;5;241m.\u001b[39mlog\u001b[38;5;241m.\u001b[39mwarning(\u001b[38;5;124m\"\u001b[39m\u001b[38;5;124mInvalid Message:\u001b[39m\u001b[38;5;124m\"\u001b[39m, exc_info\u001b[38;5;241m=\u001b[39m\u001b[38;5;28;01mTrue\u001b[39;00m)\n",
      "\u001b[0;31mKeyboardInterrupt\u001b[0m: Interrupted by user"
     ]
    }
   ],
   "source": [
    "class Scene(object):\n",
    "    def enter(self):\n",
    "        print(\"This scene is not yet configured.\")\n",
    "        print(\"Subclass it and implement enter().\")\n",
    "        exit(1)\n",
    "\n",
    "\n",
    "class Engine(object):\n",
    "    def __init__(self, scene_map):\n",
    "        self.scene_map = scene_map\n",
    "\n",
    "    def play(self):\n",
    "        current_scene = self.scene_map.opening_scene()\n",
    "        last_scene = self.scene_map.next_scene('finished')\n",
    "\n",
    "        while current_scene != last_scene:\n",
    "            next_scene_name = current_scene.enter()\n",
    "            current_scene = self.scene_map.next_scene(next_scene_name)\n",
    "\n",
    "        # be sure to print out the last scene\n",
    "        current_scene.enter()\n",
    "\n",
    "\n",
    "class Death(Scene):\n",
    "    quips = [\n",
    "        \"You died. You kinda suck at this.\",\n",
    "        \"Your mom would be proud...if she were smarter.\",\n",
    "        \"Such a luser.\",\n",
    "        \"I have a small puppy that's better at this.\",\n",
    "        \"You're worse than yor Dad's jokes\"\n",
    "    ]\n",
    "\n",
    "    def enter(self):\n",
    "        print(Death.quips[randint(0, len(self.quips) - 1)])\n",
    "        exit(1)\n",
    "\n",
    "\n",
    "class CentralCorridor(Scene):\n",
    "    def enter(self):\n",
    "        print(dedent(\"\"\"\n",
    "\t\t\tThe Gothons of Planet Percal #25 have invaded your ship and \n",
    "\t\t\tdestroyed your entire crew. You are the last surviving \n",
    "\t\t\tmember and your last mission is to get the neutron destruct \n",
    "\t\t\tbomb from the Weapons Armory, put it in the bridge, and \n",
    "\t\t\tblow the ship up after getting into an escape pod.\n",
    "\t\t\tYou're running down the central corridor to the Weapons \n",
    "\t\t\tArmory when a Gothon jumps out, red scaly skin, dark grimy \n",
    "\t\t\tteeth, and evil clown costume flowing around his hate \n",
    "\t\t\tfilled body. He's blocking the door to the Armory and \n",
    "\t\t\tabout to pull a weapon to blast you.\n",
    "\t\t\t\"\"\"))\n",
    "\n",
    "        action = input(\"> \")\n",
    "\n",
    "        if action == \"shoot!\":\n",
    "            print(dedent(\"\"\"\n",
    "\t\t\t    Quick on the draw you yank out your blaster and fire\n",
    "\t\t\t    it at the Gothon. His clown costume is flowing and\n",
    "\t\t\t    moving around his body, which throws off your aim.\n",
    "\t\t\t    Your laser hits his costume but misses him entirely.\n",
    "\t\t\t    This completely ruins his brand new costume his mother\n",
    "\t\t\t    bought him, which makes him fly into an insane rage\n",
    "\t\t\t    and blast you repeatedly in the face until you are\n",
    "\t\t\t    dead. Then he eats you.\n",
    "\t\t\t    \"\"\"))\n",
    "            return 'death'\n",
    "\n",
    "        elif action == \"dodge!\":\n",
    "            print(dedent(\"\"\"\n",
    "                              Like a world class boxer you dodge, weave, slip and\n",
    "                              slide right as the Gothon's blaster cranks a laser\n",
    "                              past your head. In the middle of your artful dodge\n",
    "                              your foot slips and you bang your head on the metal\n",
    "                              wall and pass out. You wake up shortly after only to\n",
    "                              die as the Gothon stomps on your head and eats you.\n",
    "                              \"\"\"))\n",
    "            return 'death'\n",
    "\n",
    "        elif action == \"tell a joke\":\n",
    "            print(dedent(\"\"\"\n",
    "\t\t\t    Lucky for you they made you learn Gothon insults in\n",
    "\t\t\t    the academy. You tell the one Gothon joke you know:\n",
    "\t\t\t    Lbhe zbgure vf fb sng, jura fur fvgf nebhaq gur ubhfr,\n",
    "\t\t\t    fur fvgf nebhaq gur ubhfr. The Gothon stops, tries\n",
    "\t\t\t    not to laugh, then busts out laughing and can't move.\n",
    "\t\t\t    While he's laughing you run up and shoot him square in\n",
    "\t\t\t    the head putting him down, then jump through the\n",
    "\t\t\t    Weapon Armory door.\n",
    "\t\t\t    \"\"\"))\n",
    "            return 'laser_weapon_armory'\n",
    "\n",
    "        else:\n",
    "            print(\"DOES NOT COMPUTE!\")\n",
    "            return 'central_corridor'\n",
    "\n",
    "\n",
    "class LaserWeaponArmory(Scene):\n",
    "    def enter(self):\n",
    "        print(dedent(\"\"\"\n",
    "\t\t\tYou do a dive roll into the Weapon Armory, crouch and scan\n",
    "\t\t\tthe room for more Gothons that might be hiding. It's dead\n",
    "\t\t\tquiet, too quiet. You stand up and run to the far side of\n",
    "\t\t\tthe room and find the neutron bomb in its container.\n",
    "\t\t\tThere's a keypad lock on the box and you need the code to\n",
    "\t\t\tget the bomb out. If you get the code wrong 10 times then\n",
    "\t\t\tthe lock closes forever and you can't get the bomb.  The\n",
    "\t\t\tcode is 3 digits.\n",
    "\t\t\t\"\"\"))\n",
    "\n",
    "        code = f\"{randint(1,9)}{randint(1,9)}{randint(1,9)}\"\n",
    "        guess = input(\"[keypad]> \")\n",
    "        guesses = 0\n",
    "\n",
    "        while guess != code and guesses < 10:\n",
    "            print(\"BZZZZEDDD!\")\n",
    "            guesses += 1\n",
    "            guess = input(\"[keypad]> \")\n",
    "\n",
    "        if guess == code:\n",
    "            print(dedent(\"\"\"\n",
    "\t\t\t    The container clicks open and the seal breaks, letting\n",
    "\t\t\t    gas out. You grab the neutron bomb and run as fast as\n",
    "\t\t\t    you can to the bridge where you must place it in the\n",
    "\t\t\t    right spot.\n",
    "\t\t\t    \"\"\"))\n",
    "            return 'the_bridge'\n",
    "        else:\n",
    "            print(dedent(\"\"\"\n",
    "\t\t\t    The lock buzzes one last time and then you hear a\n",
    "\t\t\t    sickening melting sound as the mechanism is fused\n",
    "\t\t\t    together. You decide to sit there, and finally the\n",
    "\t\t\t    Gothons blow up the ship from their ship and you die.\n",
    "\t\t\t    \"\"\"))\n",
    "            return 'death'\n",
    "\n",
    "\n",
    "class TheBridge(Scene):\n",
    "    def enter(self):\n",
    "        print(dedent(\"\"\"\n",
    "\t\t\tYou burst onto the Bridge with the netron destruct bomb\n",
    "\t\t\tunder your arm and surprise 5 Gothons who are trying to\n",
    "\t\t\ttake control of the ship. Each of them has an even uglier\n",
    "\t\t\tclown costume than the last. They haven't pulled their\n",
    "\t\t\tweapons out yet, as they see the active bomb under your\n",
    "\t\t\tarm and don't want to set it off.\n",
    "\t\t\t\"\"\"))\n",
    "\n",
    "        action = input(\"> \")\n",
    "\n",
    "        if action == \"throw the bomb\":\n",
    "            print(dedent(\"\"\"\n",
    "\t\t\t    In a panic you throw the bomb at the group of Gothons\n",
    "\t\t\t    and make a leap for the door. Right as you drop it a\n",
    "\t\t\t    Gothon shoots you right in the back killing you.  As\n",
    "\t\t\t    you die you see another Gothon frantically try to\n",
    "\t\t\t    disarm the bomb. You die knowing they will probably\n",
    "\t\t\t    blow up when it goes off.\n",
    "\t\t\t    \"\"\"))\n",
    "            return 'death'\n",
    "\n",
    "        elif action == \"slowly place the bomb\":\n",
    "            print(dedent(\"\"\"\n",
    "\t\t\t    You point your blaster at the bomb under your arm and\n",
    "\t\t\t    the Gothons put their hands up and start to sweat.\n",
    "\t\t\t    You inch backward to the door, open it, and then\n",
    "\t\t\t    carefully place the bomb on the floor, pointing your\n",
    "\t\t\t    blaster at it. You then jump back through the door,\n",
    "\t\t\t    punch the close button and blast the lock so the\n",
    "\t\t\t    Gothons can't get out. Now that the bomb is placed\n",
    "\t\t\t    you run to the escape pod to get off this tin can.\n",
    "\t\t\t    \"\"\"))\n",
    "\n",
    "            return 'escape_pod'\n",
    "        else:\n",
    "            print(\"DOES NOT COMPUTE!\")\n",
    "            return 'the_bridge'\n",
    "\n",
    "\n",
    "class EscapePod(Scene):\n",
    "    def enter(self):\n",
    "        print(dedent(\"\"\"\n",
    "\t\t\tYou rush through the ship desperately trying to make it to\n",
    "\t\t\tthe escape pod before the whole ship explodes. It seems\n",
    "\t\t\tlike hardly any Gothons are on the ship, so your run is\n",
    "\t\t\tclear of interference. You get to the chamber with the\n",
    "\t\t\tescape pods, and now need to pick one to take.  Some of\n",
    "\t\t\tthem could be damaged but you don't have time to look.\n",
    "\t\t\tThere's 5 pods, which one do you take?\n",
    "\t\t\t\"\"\"))\n",
    "\n",
    "        good_pod = randint(1, 5)\n",
    "        guess = input(\"[pod #]> \")\n",
    "\n",
    "        if int(guess) != good_pod:\n",
    "            print(dedent(f\"\"\"\n",
    "                You jump into pod {guess} and hit the eject button.\n",
    "                The pod escapes out into the void of space, then\n",
    "                implodes as the hull ruptures, crushing your body into\n",
    "                jam jelly.\n",
    "                \"\"\"))\n",
    "\n",
    "            return 'death'\n",
    "        else:\n",
    "            print(dedent(f\"\"\"\n",
    "                              You jump into pod {guess} and hit the eject button.\n",
    "                              The pod easily slides out into space heading to the\n",
    "                              planet below. As it flies to the planet, you look\n",
    "                              back and see your ship implode then explode like a\n",
    "                              bright star, taking out the Gothon ship at the same\n",
    "                              time. You won!\n",
    "                              \"\"\"))\n",
    "\n",
    "            return 'finished'\n",
    "\n",
    "\n",
    "class Finished(Scene):\n",
    "    def enter(self):\n",
    "        print(\"You won! Good job.\")\n",
    "        return 'finished'\n",
    "\n",
    "\n",
    "class Map(object):\n",
    "    scenes = {\n",
    "        'central_corridor': CentralCorridor(),\n",
    "        'laser_weapon_armory': LaserWeaponArmory(),\n",
    "        'the_bridge': TheBridge(),\n",
    "        'escape_pod': EscapePod(),\n",
    "        'death': Death(),\n",
    "        'finished': Finished()\n",
    "    }\n",
    "\n",
    "    def __init__(self, start_scene):\n",
    "        self.start_scene = start_scene\n",
    "\n",
    "    def next_scene(self, scene_name):\n",
    "        val = Map.scenes.get(scene_name)\n",
    "        return val\n",
    "\n",
    "    def opening_scene(self):\n",
    "        return self.next_scene(self.start_scene)\n",
    "\n",
    "\n",
    "a_map = Map('central_corridor')\n",
    "a_game = Engine(a_map)\n",
    "a_game.play()"
   ]
  },
  {
   "cell_type": "code",
   "execution_count": 152,
   "id": "234f2aec",
   "metadata": {},
   "outputs": [
    {
     "name": "stdout",
     "output_type": "stream",
     "text": [
      "PARENT implicit()\n",
      "PARENT implicit()\n"
     ]
    }
   ],
   "source": [
    "# implicit inheritance\n",
    "class Parent(object):\n",
    "    def implicit(self):\n",
    "        print(\"PARENT implicit()\")\n",
    "    \n",
    "class Child(Parent):\n",
    "    pass\n",
    "\n",
    "dad = Parent() \n",
    "son = Child()\n",
    "\n",
    "dad.implicit() \n",
    "son.implicit()"
   ]
  },
  {
   "cell_type": "code",
   "execution_count": 156,
   "id": "00b03713",
   "metadata": {},
   "outputs": [
    {
     "name": "stdout",
     "output_type": "stream",
     "text": [
      "Parent override\n",
      "Child override\n",
      "Parent override\n"
     ]
    }
   ],
   "source": [
    "# override explicit\n",
    "class parent(object):\n",
    "    def override(self):\n",
    "        print(\"Parent override\")\n",
    "class child(parent):\n",
    "    def override(self):\n",
    "        print(\"Child override\")\n",
    "        \n",
    "dad=parent()\n",
    "son=child()\n",
    "dad.override()\n",
    "son.override()\n",
    "dad.override()"
   ]
  },
  {
   "cell_type": "code",
   "execution_count": 162,
   "id": "f1232612",
   "metadata": {},
   "outputs": [
    {
     "name": "stdout",
     "output_type": "stream",
     "text": [
      "parent altered\n",
      "child before parent altered\n",
      "parent altered\n",
      "child after parents altered\n"
     ]
    }
   ],
   "source": [
    "class parent(object):\n",
    "    def altered(self):\n",
    "        print(\"parent altered\")\n",
    "class child(parent):\n",
    "    def altered(self):\n",
    "        print(\"child before parent altered\")\n",
    "        super(child, self).altered()\n",
    "        print(\"child after parents altered\")\n",
    "\n",
    "dad=parent()\n",
    "son=child()\n",
    "\n",
    "dad.altered()\n",
    "son.altered()"
   ]
  },
  {
   "cell_type": "markdown",
   "id": "3c46ba8c",
   "metadata": {},
   "source": [
    "Inheritance is useful, but another way to do the exact same thing is just to use other classes and modules, rather than rely on implicit inheritance. If you look at the three ways to exploit inheritance, two of the three involve writing new code to replace or alter functionality. This can easily be replicated by just calling functions in a module. Here’s an example of doing this:"
   ]
  },
  {
   "cell_type": "code",
   "execution_count": 163,
   "id": "a875232a",
   "metadata": {},
   "outputs": [
    {
     "name": "stdout",
     "output_type": "stream",
     "text": [
      "OTHER implicit()\n",
      "CHILD override()\n",
      "CHILD, BEFORE OTHER altered()\n",
      "OTHER altered()\n",
      "CHILD, AFTER OTHER altered()\n"
     ]
    }
   ],
   "source": [
    "class Other(object):\n",
    "    def override(self):\n",
    "        print(\"OTHER override()\")\n",
    "\n",
    "    def implicit(self):\n",
    "        print(\"OTHER implicit()\")\n",
    "\n",
    "    def altered(self):\n",
    "        print(\"OTHER altered()\")\n",
    "\n",
    "\n",
    "class Child(object):\n",
    "    def __init__(self):\n",
    "        self.other = Other()\n",
    "\n",
    "    def implicit(self):\n",
    "        self.other.implicit()\n",
    "\n",
    "    def override(self):\n",
    "        print(\"CHILD override()\")\n",
    "\n",
    "    def altered(self):\n",
    "        print(\"CHILD, BEFORE OTHER altered()\")\n",
    "        self.other.altered()\n",
    "        print(\"CHILD, AFTER OTHER altered()\")\n",
    "\n",
    "\n",
    "son = Child()\n",
    "\n",
    "son.implicit()\n",
    "son.override()\n",
    "son.altered()"
   ]
  },
  {
   "cell_type": "code",
   "execution_count": null,
   "id": "b393b4b1",
   "metadata": {},
   "outputs": [
    {
     "name": "stdout",
     "output_type": "stream",
     "text": [
      "Running `brew update --auto-update`...\n",
      "\u001b[34m==>\u001b[0m \u001b[1mAuto-updated Homebrew!\u001b[0m\n",
      "Updated 2 taps (homebrew/core and homebrew/cask).\n",
      "\u001b[34m==>\u001b[0m \u001b[1mNew Formulae\u001b[0m\n",
      "agg                                      liburing\n",
      "antidote                                 libvatek\n",
      "apophenia                                licenseplist\n",
      "autocorrect                              linux-headers@5.15\n",
      "bazarr                                   llvm@14\n",
      "bdftopcf                                 lmfit\n",
      "burst                                    lucky-commit\n",
      "c                                        mailsy\n",
      "camlp-streams                            mqttui\n",
      "cargo-crev                               mycorrhiza\n",
      "cargo-zigbuild                           netcdf-cxx\n",
      "censys                                   netcdf-fortran\n",
      "commitlint                               nuraft\n",
      "cql-proxy                                objconv\n",
      "crytic-compile                           opencl-icd-loader\n",
      "distrobox                                ouch\n",
      "dronedb                                  popeye\n",
      "dsda-doom                                purescript-language-server\n",
      "dynein                                   pymol\n",
      "echidna                                  python-typing-extensions\n",
      "fonts-encodings                          pyyaml\n",
      "fortls                                   quilt-installer\n",
      "fuego-firestore                          rdb\n",
      "gator                                    ripsecrets\n",
      "gcc@11                                   rome\n",
      "gcem                                     rush-parallel\n",
      "gdrive-downloader                        scala@2.13\n",
      "ghc@8.10                                 schemathesis\n",
      "ghorg                                    shaderc\n",
      "git-machete                              slither-analyzer\n",
      "git-sync                                 snowball\n",
      "go-camo                                  solc-select\n",
      "go@1.18                                  sqlcmd\n",
      "got                                      svt-av1\n",
      "has                                      swiftdraw\n",
      "highway                                  taplo\n",
      "hof                                      tbls\n",
      "hpp-fcl                                  tfel\n",
      "jj                                       toml-test\n",
      "json2tsv                                 vineyard\n",
      "kalign                                   wasm-micro-runtime\n",
      "kubesess                                 weasyprint\n",
      "libff                                    xctesthtmlreport\n",
      "liblbfgs                                 xwin\n",
      "libplacebo\n",
      "\u001b[34m==>\u001b[0m \u001b[1mNew Casks\u001b[0m\n",
      "akiflow                    gamemaker                  pictureview\n",
      "aliwangwang                gittyup                    playcover-community\n",
      "apifox                     glance-chamburr            plugdata\n",
      "apipost                    goxel                      postman-cli\n",
      "aptakube                   httpie                     qspace-pro\n",
      "arduino-ide                imhex                      random-mouse-clicker\n",
      "beast2                     keet                       reflect\n",
      "bluebubbles                laconvolver                rnnoise\n",
      "bookwright                 languagetool               sanesidebuttons\n",
      "bridge                     lectrote                   snapmaker-luban\n",
      "chromium-gost              lookingglassbridge         spline\n",
      "cider                      lookingglassstudio         texifier\n",
      "cisdem-duplicate-finder    lunacy                     tl-legacy\n",
      "dcp-o-matic-editor         macforge                   trunk-io\n",
      "decentr                    micromamba                 typcn-bilibili\n",
      "devcleaner                 mints                      virtualbuddy\n",
      "doll                       moderndeck                 whist-browser\n",
      "douyin                     nanoem                     xprocheck\n",
      "filen                      notesnook                  yubihsm2-sdk\n",
      "fresh                      orka-vm-tools\n",
      "\n",
      "You have \u001b[1m27\u001b[0m outdated formulae installed.\n",
      "You can upgrade them with \u001b[1mbrew upgrade\u001b[0m\n",
      "or list them with \u001b[1mbrew outdated\u001b[0m.\n",
      "\n",
      "\u001b[33mWarning:\u001b[0m No available formula with the name \"inventory\". Did you mean pinentry?\n",
      "\u001b[34m==>\u001b[0m \u001b[1mSearching for similarly named formulae...\u001b[0m\n",
      "These similarly named formulae were found:\n",
      "terraform-inventory                      pinentry\n",
      "To install one of them, run (for example):\n",
      "  brew install terraform-inventory\n",
      "\u001b[34m==>\u001b[0m \u001b[1mSearching for a previously deleted formula (in the last month)...\u001b[0m\n",
      "\u001b[31mError:\u001b[0m No previously deleted formula found.\n",
      "\u001b[34m==>\u001b[0m \u001b[1mSearching taps on GitHub...\u001b[0m\n"
     ]
    }
   ],
   "source": [
    "#asynchrnous\n",
    "!brew install inventory"
   ]
  },
  {
   "cell_type": "code",
   "execution_count": null,
   "id": "96873a78",
   "metadata": {},
   "outputs": [],
   "source": []
  },
  {
   "cell_type": "code",
   "execution_count": null,
   "id": "79cb3ae9",
   "metadata": {},
   "outputs": [],
   "source": [
    "import asyncio\n",
    "from inventory import Inventory\n",
    "from order import Order"
   ]
  },
  {
   "cell_type": "code",
   "execution_count": null,
   "id": "df7b24f0",
   "metadata": {},
   "outputs": [],
   "source": []
  },
  {
   "cell_type": "code",
   "execution_count": 9,
   "id": "70be40fb",
   "metadata": {},
   "outputs": [
    {
     "ename": "NameError",
     "evalue": "name 'verify_item_id' is not defined",
     "output_type": "error",
     "traceback": [
      "\u001b[0;31m---------------------------------------------------------------------------\u001b[0m",
      "\u001b[0;31mNameError\u001b[0m                                 Traceback (most recent call last)",
      "Input \u001b[0;32mIn [9]\u001b[0m, in \u001b[0;36m<cell line: 1>\u001b[0;34m()\u001b[0m\n\u001b[0;32m----> 1\u001b[0m \u001b[38;5;28;01mclass\u001b[39;00m \u001b[38;5;21;01mInventory\u001b[39;00m:\n\u001b[1;32m      2\u001b[0m     \u001b[38;5;28;01mdef\u001b[39;00m \u001b[38;5;21m___init__\u001b[39m(\u001b[38;5;28mself\u001b[39m):\n\u001b[1;32m      3\u001b[0m         \u001b[38;5;28mself\u001b[39m\u001b[38;5;241m.\u001b[39mcatalogue\u001b[38;5;241m=\u001b[39m {\n\u001b[1;32m      4\u001b[0m             \u001b[38;5;124m\"\u001b[39m\u001b[38;5;124mBurgers\u001b[39m\u001b[38;5;124m\"\u001b[39m:[\n\u001b[1;32m      5\u001b[0m                 {\u001b[38;5;124m\"\u001b[39m\u001b[38;5;124mid\u001b[39m\u001b[38;5;124m\"\u001b[39m: \u001b[38;5;241m1\u001b[39m, \u001b[38;5;124m\"\u001b[39m\u001b[38;5;124mname\u001b[39m\u001b[38;5;124m\"\u001b[39m: \u001b[38;5;124m\"\u001b[39m\u001b[38;5;124mPython Burger\u001b[39m\u001b[38;5;124m\"\u001b[39m, \u001b[38;5;124m\"\u001b[39m\u001b[38;5;124mprice\u001b[39m\u001b[38;5;124m\"\u001b[39m: \u001b[38;5;241m5.99\u001b[39m},\n\u001b[0;32m   (...)\u001b[0m\n\u001b[1;32m     42\u001b[0m \n\u001b[1;32m     43\u001b[0m         }\n",
      "Input \u001b[0;32mIn [9]\u001b[0m, in \u001b[0;36mInventory\u001b[0;34m()\u001b[0m\n\u001b[1;32m     83\u001b[0m     \u001b[38;5;28;01mawait\u001b[39;00m asyncio\u001b[38;5;241m.\u001b[39msleep(\u001b[38;5;241m2\u001b[39m)\n\u001b[1;32m     84\u001b[0m     \u001b[38;5;28;01mreturn\u001b[39;00m selg\u001b[38;5;241m.\u001b[39mcatalogue\n\u001b[0;32m---> 87\u001b[0m \u001b[38;5;129m@verify_item_id\u001b[39m\n\u001b[1;32m     88\u001b[0m \u001b[38;5;28;01masync\u001b[39;00m \u001b[38;5;28;01mdef\u001b[39;00m \u001b[38;5;21mget_stock\u001b[39m(\u001b[38;5;28mself\u001b[39m, item_id):\n\u001b[1;32m     89\u001b[0m     \u001b[38;5;28;01mif\u001b[39;00m item_id \u001b[38;5;129;01mnot\u001b[39;00m \u001b[38;5;129;01min\u001b[39;00m \u001b[38;5;28mself\u001b[39m\u001b[38;5;241m.\u001b[39mstock:\n\u001b[1;32m     90\u001b[0m         \u001b[38;5;28;01mraise\u001b[39;00m \u001b[38;5;167;01mValueError\u001b[39;00m(\u001b[38;5;124mf\u001b[39m\u001b[38;5;124m\"\u001b[39m\u001b[38;5;124mNo item with id: \u001b[39m\u001b[38;5;132;01m{\u001b[39;00mitem_id\u001b[38;5;132;01m}\u001b[39;00m\u001b[38;5;124m exists in the inventory.\u001b[39m\u001b[38;5;124m\"\u001b[39m)\n",
      "\u001b[0;31mNameError\u001b[0m: name 'verify_item_id' is not defined"
     ]
    }
   ],
   "source": [
    "class Inventory:\n",
    "    def ___init__(self):\n",
    "        self.catalogue= {\n",
    "            \"Burgers\":[\n",
    "                {\"id\": 1, \"name\": \"Python Burger\", \"price\": 5.99},\n",
    "                {\"id\": 2, \"name\": \"C Burger\", \"price\": 4.99},\n",
    "                {\"id\": 3, \"name\": \"Ruby Burger\", \"price\": 6.49},\n",
    "                {\"id\": 4, \"name\": \"Go Burger\", \"price\": 5.99},\n",
    "                {\"id\": 5, \"name\": \"C++ Burger\", \"price\": 7.99},\n",
    "                {\"id\": 6, \"name\": \"Java Burger\", \"price\": 7.99}\n",
    "            ],\n",
    "            \"Sides\": {\n",
    "                \"Fries\": [\n",
    "                    {\"id\": 7, \"size\": \"Small\", \"price\": 2.49}, \n",
    "                    {\"id\": 8, \"size\": \"Medium\", \"price\": 3.49}, \n",
    "                    {\"id\": 9, \"size\": \"Large\", \"price\": 4.29}\n",
    "                ],\n",
    "                 \"Caesar Salad\": [\n",
    "                    {\"id\": 10, \"size\": \"Small\", \"price\": 3.49}, \n",
    "                    {\"id\": 11, \"size\": \"Large\", \"price\": 4.49}\n",
    "                ]\n",
    "            },\n",
    "            \"Drinks\": {\n",
    "                \"Coke\": [\n",
    "                    {\"id\": 12, \"size\": \"Small\", \"price\": 1.99}, \n",
    "                    {\"id\": 13, \"size\": \"Medium\", \"price\": 2.49}, \n",
    "                    {\"id\": 14, \"size\": \"Large\", \"price\": 2.99}\n",
    "                ],\n",
    "                \n",
    "                \"Ginger Ale\": [\n",
    "                    {\"id\": 15, \"size\": \"Small\", \"price\": 1.99}, \n",
    "                    {\"id\": 16, \"size\": \"Medium\", \"price\": 2.49}, \n",
    "                    {\"id\": 17, \"size\": \"Large\", \"price\": 2.99}\n",
    "                ],\n",
    "                \"Chocolate Milk Shake\": [\n",
    "                    {\"id\": 18, \"size\": \"Small\", \"price\": 3.99}, \n",
    "                    {\"id\": 19, \"size\": \"Medium\", \"price\": 4.49}, \n",
    "                    {\"id\": 20, \"size\": \"Large\", \"price\": 4.99}\n",
    "                ]\n",
    "            }\n",
    "            \n",
    "\n",
    "        }\n",
    "        \n",
    "        self._generate_item_lookup_dict()\n",
    "        self.stock={i+1: random.randint(0,15) for i in rangelen((self.items))} # level of every single item range\n",
    "        self.stock_lock= asyncio.Lock()\n",
    "    \n",
    "    def _generate_item_lookup_dict(self):\n",
    "        self.items={}\n",
    "        for category in self.catalogue:\n",
    "            category_collection=self.catalogue[category]\n",
    "            \n",
    "            if isinstance(category_collection, list):\n",
    "                for item in category_collection:\n",
    "                    new_item=item.copy()\n",
    "                    new_item['category']= category\n",
    "                    new_item['subcategory']=None\n",
    "                    self.items[new_item['id']]=new_item\n",
    "            else:\n",
    "                for subcategory in category_collection:\n",
    "                    for item in category_collection[subcategory]:\n",
    "                        new_item=item.copy()\n",
    "                        new_item['category']=category\n",
    "                        new_item['subcategory']=subcategory\n",
    "                        self.items[new_item['id']]=new_item\n",
    "                        \n",
    "    def _verify_item_id(func):\n",
    "        async def wrapper(self, item_id):\n",
    "            if item_id not in self.stock:\n",
    "                raise valueError(f\"No item with id: {item_id} exists in the inventory.\")\n",
    "            \n",
    "            result= await func(self,item_id)\n",
    "            return result\n",
    "        return wrapper\n",
    "                \n",
    "                    \n",
    "    async def get_number_of_items(self):\n",
    "        await asyncio.sleep(1)\n",
    "        return len(self.items)\n",
    "    \n",
    "    async def get_catalogue(self):\n",
    "        await asyncio.sleep(2)\n",
    "        return selg.catalogue\n",
    "    \n",
    "    \n",
    "    @verify_item_id\n",
    "    async def get_stock(self, item_id):\n",
    "        if item_id not in self.stock:\n",
    "            raise ValueError(f\"No item with id: {item_id} exists in the inventory.\")\n",
    "        await asyncio.sleep(2)\n",
    "        \n",
    "        async with self.stock_lock:\n",
    "            return self.stock(item_id)\n",
    "        \n",
    "    @verify_item_id\n",
    "    async def decrement_stock(self,item_id):\n",
    "        if item_id not in self.stock:\n",
    "            raise ValueError(f\"No item with id: {item_id} exists in the inventory.\")\n",
    "    \n",
    "        if self.stock[item_id]==0:\n",
    "            return False\n",
    "        \n",
    "        async with self.stock_lock:\n",
    "            self.stock[item_id] -=1\n",
    "            return True\n",
    "        \n",
    "    \n",
    "    @_verify_item_id\n",
    "    async def get_item(self, item_id):\n",
    "        await asyncio.sleep(1)\n",
    "        return self.items[item_id]\n",
    "   \n",
    "         \n",
    "            \n",
    "      \n",
    "    "
   ]
  },
  {
   "cell_type": "code",
   "execution_count": null,
   "id": "24d94f8d",
   "metadata": {},
   "outputs": [],
   "source": []
  },
  {
   "cell_type": "code",
   "execution_count": null,
   "id": "1951a2e4",
   "metadata": {},
   "outputs": [],
   "source": []
  },
  {
   "cell_type": "code",
   "execution_count": null,
   "id": "ff3dcc0c",
   "metadata": {},
   "outputs": [],
   "source": []
  },
  {
   "cell_type": "code",
   "execution_count": null,
   "id": "3d108855",
   "metadata": {},
   "outputs": [],
   "source": []
  },
  {
   "cell_type": "code",
   "execution_count": null,
   "id": "75cf4ab1",
   "metadata": {},
   "outputs": [],
   "source": []
  },
  {
   "cell_type": "code",
   "execution_count": null,
   "id": "741f0b4b",
   "metadata": {},
   "outputs": [],
   "source": []
  },
  {
   "cell_type": "code",
   "execution_count": null,
   "id": "d4dab5b5",
   "metadata": {},
   "outputs": [],
   "source": []
  }
 ],
 "metadata": {
  "kernelspec": {
   "display_name": "Python 3 (ipykernel)",
   "language": "python",
   "name": "python3"
  },
  "language_info": {
   "codemirror_mode": {
    "name": "ipython",
    "version": 3
   },
   "file_extension": ".py",
   "mimetype": "text/x-python",
   "name": "python",
   "nbconvert_exporter": "python",
   "pygments_lexer": "ipython3",
   "version": "3.10.5"
  },
  "vscode": {
   "interpreter": {
    "hash": "b0fa6594d8f4cbf19f97940f81e996739fb7646882a419484c72d19e05852a7e"
   }
  }
 },
 "nbformat": 4,
 "nbformat_minor": 5
}
